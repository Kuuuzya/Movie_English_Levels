{
 "cells": [
  {
   "cell_type": "markdown",
   "source": [
    "# Проект: English Movie Level Prediction #\n",
    "\n",
    "### Подготовка словаря английских слов по уровням ###\n",
    "---\n",
    "\n",
    "#### Входные данные ####\n",
    "Электронная таблица. Названия вкладок соответствуют названиям уровней CEFR. На каждой вкладке столбец со словами соответствующего уровня. Слова взяты из файлов \"American_Oxford_3000_by_CEFR_level.pdf\" и \"American_Oxford_5000_by_CEFR_level.pdf\" в папке Source/Oxford_CEFR_level\n",
    "\n",
    "#### Цель ####\n",
    "Объединить слова в csv-файл, содержащий две колонки: 'Word' и 'Level'.\n",
    "\n",
    "\n",
    "#### Задачи ####\n",
    "- если одинаковое написание слова встречается в разных уровнях, присвоить слову наибольший (трудный) уровень.\n",
    "- сгенерировать тексты с использованием исключительно слов одного уровня (для создания baseline-модели)."
   ],
   "metadata": {
    "collapsed": false
   }
  },
  {
   "cell_type": "markdown",
   "source": [
    "## Imports, constants, etc."
   ],
   "metadata": {
    "collapsed": false
   }
  },
  {
   "cell_type": "code",
   "execution_count": 10,
   "outputs": [
    {
     "name": "stdout",
     "output_type": "stream",
     "text": [
      "Collecting PyPDF2\r\n",
      "  Using cached pypdf2-3.0.1-py3-none-any.whl (232 kB)\r\n",
      "Requirement already satisfied: typing_extensions>=3.10.0.0 in ./venv/lib/python3.9/site-packages (from PyPDF2) (4.5.0)\r\n",
      "Installing collected packages: PyPDF2\r\n",
      "Successfully installed PyPDF2-3.0.1\r\n"
     ]
    }
   ],
   "source": [
    "# #Install neede libraries\n",
    "# !pip install pandas\n",
    "# !pip install PyPDF2"
   ],
   "metadata": {
    "collapsed": false,
    "ExecuteTime": {
     "end_time": "2023-05-14T11:10:57.455275Z",
     "start_time": "2023-05-14T11:10:56.081011Z"
    }
   }
  },
  {
   "cell_type": "code",
   "execution_count": 5,
   "outputs": [],
   "source": [
    "import pandas as pd\n",
    "import warnings"
   ],
   "metadata": {
    "collapsed": false,
    "ExecuteTime": {
     "end_time": "2023-05-14T11:10:28.584312Z",
     "start_time": "2023-05-14T11:10:11.405599Z"
    }
   }
  },
  {
   "cell_type": "code",
   "execution_count": 6,
   "outputs": [],
   "source": [
    "PATH_LOCAL = 'Source/'                               # local path to data\n",
    "PATH_REMOTE = '/Source/'                             # remote path to data\n",
    "CR = '\\n'"
   ],
   "metadata": {
    "collapsed": false,
    "ExecuteTime": {
     "end_time": "2023-05-14T11:10:30.896954Z",
     "start_time": "2023-05-14T11:10:30.892823Z"
    }
   }
  },
  {
   "cell_type": "code",
   "execution_count": 7,
   "outputs": [],
   "source": [
    "# Pandas defaults\n",
    "pd.options.display.max_colwidth = 100\n",
    "pd.options.display.max_rows = 500\n",
    "pd.options.display.max_columns = 100\n",
    "pd.options.display.float_format = '{:.3f}'.format\n",
    "pd.options.display.colheader_justify = 'left'"
   ],
   "metadata": {
    "collapsed": false,
    "ExecuteTime": {
     "end_time": "2023-05-14T11:10:32.773745Z",
     "start_time": "2023-05-14T11:10:32.767640Z"
    }
   }
  },
  {
   "cell_type": "code",
   "execution_count": 8,
   "outputs": [],
   "source": [
    "warnings.filterwarnings('ignore')"
   ],
   "metadata": {
    "collapsed": false,
    "ExecuteTime": {
     "end_time": "2023-05-14T11:10:34.382051Z",
     "start_time": "2023-05-14T11:10:34.377414Z"
    }
   }
  },
  {
   "cell_type": "code",
   "execution_count": 11,
   "outputs": [],
   "source": [
    "import PyPDF2\n",
    "import re\n",
    "\n",
    "def first_word(word):\n",
    "    return word.split(maxsplit=1)[0].split(',')[0]\n",
    "\n",
    "def pdf_parser(name):\n",
    "    pdf_file = open(f'{PATH_LOCAL}{name}', 'rb')\n",
    "    pdf_reader = PyPDF2.PdfReader(pdf_file)\n",
    "\n",
    "    text = ''\n",
    "    for page in range(len(pdf_reader.pages)):\n",
    "        text += pdf_reader.pages[page].extract_text()\n",
    "    lines = text.split('\\n')\n",
    "    data = []\n",
    "    level_pattern = re.compile(r\"^[A|B|C][0-9]{1}\")\n",
    "\n",
    "    current_level = None\n",
    "    for line in lines:\n",
    "        if level_pattern.match(line):\n",
    "            current_level = line.strip()\n",
    "        else:\n",
    "            if current_level:\n",
    "                word = line.split(' ')[0].strip().lower()\n",
    "                if word != '1':\n",
    "                    data.append([word, current_level])\n",
    "\n",
    "    # Create a pandas DataFrame from the data\n",
    "    df = pd.DataFrame(data, columns=['Word', 'Level'])\n",
    "\n",
    "    # Apply the custom function to the 'Word' column\n",
    "    df['Word'] = df['Word'].apply(first_word)\n",
    "    pdf_file.close()\n",
    "    return df"
   ],
   "metadata": {
    "collapsed": false,
    "ExecuteTime": {
     "end_time": "2023-05-14T11:11:19.351737Z",
     "start_time": "2023-05-14T11:11:19.325812Z"
    }
   }
  },
  {
   "cell_type": "code",
   "execution_count": 12,
   "outputs": [],
   "source": [
    "oxford_3000 = pdf_parser('Oxford_CEFR_level/The_Oxford_3000_by_CEFR_level.pdf')\n",
    "oxford_5000 = pdf_parser('Oxford_CEFR_level/The_Oxford_5000_by_CEFR_level.pdf')\n",
    "am_oxford_3000 = pdf_parser('Oxford_CEFR_level/American_Oxford_3000_by_CEFR_level.pdf')\n",
    "am_oxford_5000 = pdf_parser('Oxford_CEFR_level/American_Oxford_5000_by_CEFR_level.pdf')"
   ],
   "metadata": {
    "collapsed": false,
    "ExecuteTime": {
     "end_time": "2023-05-14T11:11:25.946947Z",
     "start_time": "2023-05-14T11:11:24.716334Z"
    }
   }
  },
  {
   "cell_type": "code",
   "execution_count": 13,
   "outputs": [],
   "source": [
    "def highest_level(levels):\n",
    "    level_order = {'A1': 1, 'A2': 2, 'B1': 3, 'B2': 4, 'C1': 5, 'C2': 6}\n",
    "    return max(levels, key=lambda x: level_order[x])\n",
    "\n",
    "def comb(df1,df2):\n",
    "    combined_df = pd.concat([df1, df2])\n",
    "    # Group the DataFrame by the 'Word' column and apply the custom function to the 'Level' column\n",
    "    result_df = combined_df.groupby('Word').agg({'Level': highest_level}).reset_index()\n",
    "    return result_df"
   ],
   "metadata": {
    "collapsed": false,
    "ExecuteTime": {
     "end_time": "2023-05-14T11:11:27.561387Z",
     "start_time": "2023-05-14T11:11:27.556870Z"
    }
   }
  },
  {
   "cell_type": "code",
   "execution_count": 14,
   "outputs": [
    {
     "data": {
      "text/plain": "(3263, 2)"
     },
     "execution_count": 14,
     "metadata": {},
     "output_type": "execute_result"
    }
   ],
   "source": [
    "oxford_3000.shape"
   ],
   "metadata": {
    "collapsed": false,
    "ExecuteTime": {
     "end_time": "2023-05-14T11:11:28.764511Z",
     "start_time": "2023-05-14T11:11:28.754394Z"
    }
   }
  },
  {
   "cell_type": "code",
   "execution_count": 15,
   "outputs": [
    {
     "data": {
      "text/plain": "(1798, 2)"
     },
     "execution_count": 15,
     "metadata": {},
     "output_type": "execute_result"
    }
   ],
   "source": [
    "oxford_5000.shape"
   ],
   "metadata": {
    "collapsed": false,
    "ExecuteTime": {
     "end_time": "2023-05-14T11:11:32.061132Z",
     "start_time": "2023-05-14T11:11:32.047004Z"
    }
   }
  },
  {
   "cell_type": "code",
   "execution_count": 16,
   "outputs": [],
   "source": [
    "oxford = comb(oxford_3000,oxford_5000)\n",
    "am_oxford = comb(am_oxford_3000,am_oxford_5000)\n",
    "all = comb(am_oxford,oxford)"
   ],
   "metadata": {
    "collapsed": false,
    "ExecuteTime": {
     "end_time": "2023-05-14T11:11:32.994045Z",
     "start_time": "2023-05-14T11:11:32.854228Z"
    }
   }
  },
  {
   "cell_type": "code",
   "execution_count": 17,
   "outputs": [
    {
     "data": {
      "text/plain": "(4910, 2)"
     },
     "execution_count": 17,
     "metadata": {},
     "output_type": "execute_result"
    }
   ],
   "source": [
    "all.shape"
   ],
   "metadata": {
    "collapsed": false,
    "ExecuteTime": {
     "end_time": "2023-05-14T11:11:33.596576Z",
     "start_time": "2023-05-14T11:11:33.588259Z"
    }
   }
  },
  {
   "cell_type": "code",
   "execution_count": 18,
   "outputs": [
    {
     "data": {
      "text/plain": "(4910, 2)"
     },
     "execution_count": 18,
     "metadata": {},
     "output_type": "execute_result"
    }
   ],
   "source": [
    "all.shape"
   ],
   "metadata": {
    "collapsed": false,
    "ExecuteTime": {
     "end_time": "2023-05-14T11:11:34.232312Z",
     "start_time": "2023-05-14T11:11:34.224833Z"
    }
   }
  },
  {
   "cell_type": "code",
   "execution_count": 19,
   "outputs": [
    {
     "data": {
      "text/plain": "       Word\nLevel      \nA1      742\nA2      751\nB1      766\nB2     1451\nC1     1200",
      "text/html": "<div>\n<style scoped>\n    .dataframe tbody tr th:only-of-type {\n        vertical-align: middle;\n    }\n\n    .dataframe tbody tr th {\n        vertical-align: top;\n    }\n\n    .dataframe thead th {\n        text-align: right;\n    }\n</style>\n<table border=\"1\" class=\"dataframe\">\n  <thead>\n    <tr style=\"text-align: left;\">\n      <th></th>\n      <th>Word</th>\n    </tr>\n    <tr>\n      <th>Level</th>\n      <th></th>\n    </tr>\n  </thead>\n  <tbody>\n    <tr>\n      <th>A1</th>\n      <td>742</td>\n    </tr>\n    <tr>\n      <th>A2</th>\n      <td>751</td>\n    </tr>\n    <tr>\n      <th>B1</th>\n      <td>766</td>\n    </tr>\n    <tr>\n      <th>B2</th>\n      <td>1451</td>\n    </tr>\n    <tr>\n      <th>C1</th>\n      <td>1200</td>\n    </tr>\n  </tbody>\n</table>\n</div>"
     },
     "execution_count": 19,
     "metadata": {},
     "output_type": "execute_result"
    }
   ],
   "source": [
    "all.groupby('Level').count()"
   ],
   "metadata": {
    "collapsed": false,
    "ExecuteTime": {
     "end_time": "2023-05-14T11:11:34.685731Z",
     "start_time": "2023-05-14T11:11:34.674951Z"
    }
   }
  },
  {
   "cell_type": "code",
   "execution_count": 20,
   "outputs": [],
   "source": [
    "# Save the DataFrame to a CSV file\n",
    "all.to_csv('words_and_levels.csv', index=False)"
   ],
   "metadata": {
    "collapsed": false,
    "ExecuteTime": {
     "end_time": "2023-05-14T11:11:35.686656Z",
     "start_time": "2023-05-14T11:11:35.671751Z"
    }
   }
  }
 ],
 "metadata": {
  "kernelspec": {
   "display_name": "Python 3",
   "language": "python",
   "name": "python3"
  },
  "language_info": {
   "codemirror_mode": {
    "name": "ipython",
    "version": 2
   },
   "file_extension": ".py",
   "mimetype": "text/x-python",
   "name": "python",
   "nbconvert_exporter": "python",
   "pygments_lexer": "ipython2",
   "version": "2.7.6"
  }
 },
 "nbformat": 4,
 "nbformat_minor": 0
}
