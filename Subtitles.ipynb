{
 "cells": [
  {
   "cell_type": "markdown",
   "source": [
    "### РАЗБИРАЕМ СУБТИТРЫ ###\n",
    "Для выполнения задачи нам нужно создать датасет с данными обо всех субтитрах, что у нас есть. Для этого мы воспользуемся исходной таблицей с субтитрами, а также файлами, разложенными по соответствующим папкам."
   ],
   "metadata": {
    "collapsed": false
   }
  },
  {
   "cell_type": "code",
   "execution_count": 1,
   "outputs": [],
   "source": [
    "#!/usr/bin/python\n",
    "# -*- coding: utf-8 -*-\n",
    "import seaborn as sns\n",
    "import os\n",
    "from collections import Counter\n",
    "import matplotlib.pyplot as plt\n",
    "import numpy as np\n",
    "import pandas as pd\n",
    "import pysrt\n",
    "import re\n",
    "import warnings\n",
    "import nltk\n",
    "from nltk.stem import WordNetLemmatizer\n",
    "from sklearn.feature_extraction.text import TfidfVectorizer\n",
    "from sklearn.linear_model import LogisticRegression, RidgeClassifier, \\\n",
    "    SGDClassifier\n",
    "from sklearn.metrics import f1_score, accuracy_score\n",
    "from sklearn.model_selection import GridSearchCV, train_test_split\n",
    "from sklearn.pipeline import Pipeline\n",
    "from sklearn.svm import LinearSVC\n",
    "from sklearn.tree import DecisionTreeClassifier"
   ],
   "metadata": {
    "collapsed": false,
    "ExecuteTime": {
     "end_time": "2023-05-24T08:37:41.814651Z",
     "start_time": "2023-05-24T08:37:40.840499Z"
    }
   }
  },
  {
   "cell_type": "code",
   "execution_count": 2,
   "outputs": [],
   "source": [
    "warnings.filterwarnings('ignore')"
   ],
   "metadata": {
    "collapsed": false,
    "ExecuteTime": {
     "end_time": "2023-05-24T08:37:41.817337Z",
     "start_time": "2023-05-24T08:37:41.815319Z"
    }
   }
  },
  {
   "cell_type": "code",
   "execution_count": 3,
   "outputs": [
    {
     "name": "stderr",
     "output_type": "stream",
     "text": [
      "[nltk_data] Downloading package punkt to /Users/kuuuzya/nltk_data...\n",
      "[nltk_data]   Package punkt is already up-to-date!\n",
      "[nltk_data] Downloading package wordnet to /Users/kuuuzya/nltk_data...\n",
      "[nltk_data]   Package wordnet is already up-to-date!\n",
      "[nltk_data] Downloading package punkt to /Users/kuuuzya/nltk_data...\n",
      "[nltk_data]   Package punkt is already up-to-date!\n",
      "[nltk_data] Downloading package averaged_perceptron_tagger to\n",
      "[nltk_data]     /Users/kuuuzya/nltk_data...\n",
      "[nltk_data]   Package averaged_perceptron_tagger is already up-to-\n",
      "[nltk_data]       date!\n",
      "[nltk_data] Downloading package maxent_ne_chunker to\n",
      "[nltk_data]     /Users/kuuuzya/nltk_data...\n",
      "[nltk_data]   Package maxent_ne_chunker is already up-to-date!\n",
      "[nltk_data] Downloading package words to /Users/kuuuzya/nltk_data...\n",
      "[nltk_data]   Package words is already up-to-date!\n"
     ]
    },
    {
     "data": {
      "text/plain": "True"
     },
     "execution_count": 3,
     "metadata": {},
     "output_type": "execute_result"
    }
   ],
   "source": [
    "#download ntlk packages\n",
    "nltk.download('punkt')\n",
    "nltk.download('wordnet')\n",
    "nltk.download('punkt')\n",
    "nltk.download('averaged_perceptron_tagger')\n",
    "nltk.download('maxent_ne_chunker')\n",
    "nltk.download('words')"
   ],
   "metadata": {
    "collapsed": false,
    "ExecuteTime": {
     "end_time": "2023-05-24T08:37:42.599668Z",
     "start_time": "2023-05-24T08:37:41.818903Z"
    }
   }
  },
  {
   "cell_type": "code",
   "execution_count": 4,
   "outputs": [],
   "source": [
    "PATH_LOCAL = 'Source/'                               # local path to data\n",
    "PATH_REMOTE = '/Source/'                             # remote path to data\n",
    "CR = '\\n'"
   ],
   "metadata": {
    "collapsed": false,
    "ExecuteTime": {
     "end_time": "2023-05-24T08:37:42.599924Z",
     "start_time": "2023-05-24T08:37:42.599246Z"
    }
   }
  },
  {
   "cell_type": "code",
   "execution_count": 5,
   "outputs": [
    {
     "data": {
      "text/plain": "   id                             Movie   Level\n0   0         10_Cloverfield_lane(2016)      B1\n1   1  10_things_I_hate_about_you(1999)      B1\n2   2              A_knights_tale(2001)      B2\n3   3              A_star_is_born(2018)      B2\n4   4                     Aladdin(1992)  A2/A2+",
      "text/html": "<div>\n<style scoped>\n    .dataframe tbody tr th:only-of-type {\n        vertical-align: middle;\n    }\n\n    .dataframe tbody tr th {\n        vertical-align: top;\n    }\n\n    .dataframe thead th {\n        text-align: right;\n    }\n</style>\n<table border=\"1\" class=\"dataframe\">\n  <thead>\n    <tr style=\"text-align: right;\">\n      <th></th>\n      <th>id</th>\n      <th>Movie</th>\n      <th>Level</th>\n    </tr>\n  </thead>\n  <tbody>\n    <tr>\n      <th>0</th>\n      <td>0</td>\n      <td>10_Cloverfield_lane(2016)</td>\n      <td>B1</td>\n    </tr>\n    <tr>\n      <th>1</th>\n      <td>1</td>\n      <td>10_things_I_hate_about_you(1999)</td>\n      <td>B1</td>\n    </tr>\n    <tr>\n      <th>2</th>\n      <td>2</td>\n      <td>A_knights_tale(2001)</td>\n      <td>B2</td>\n    </tr>\n    <tr>\n      <th>3</th>\n      <td>3</td>\n      <td>A_star_is_born(2018)</td>\n      <td>B2</td>\n    </tr>\n    <tr>\n      <th>4</th>\n      <td>4</td>\n      <td>Aladdin(1992)</td>\n      <td>A2/A2+</td>\n    </tr>\n  </tbody>\n</table>\n</div>"
     },
     "execution_count": 5,
     "metadata": {},
     "output_type": "execute_result"
    }
   ],
   "source": [
    "#load movie labels file\n",
    "try:\n",
    "    movies = pd.read_excel(f'{PATH_LOCAL}English_scores/movies_labels.xlsx')\n",
    "except:\n",
    "    print('Не удалось прочитать файл. Ищи ошибку!')\n",
    "\n",
    "movies.head()"
   ],
   "metadata": {
    "collapsed": false,
    "ExecuteTime": {
     "end_time": "2023-05-24T08:37:42.736565Z",
     "start_time": "2023-05-24T08:37:42.599865Z"
    }
   }
  },
  {
   "cell_type": "code",
   "execution_count": 6,
   "outputs": [
    {
     "name": "stdout",
     "output_type": "stream",
     "text": [
      "<class 'pandas.core.frame.DataFrame'>\n",
      "RangeIndex: 241 entries, 0 to 240\n",
      "Data columns (total 3 columns):\n",
      " #   Column  Non-Null Count  Dtype \n",
      "---  ------  --------------  ----- \n",
      " 0   id      241 non-null    int64 \n",
      " 1   Movie   241 non-null    object\n",
      " 2   Level   241 non-null    object\n",
      "dtypes: int64(1), object(2)\n",
      "memory usage: 5.8+ KB\n"
     ]
    }
   ],
   "source": [
    "movies.info()"
   ],
   "metadata": {
    "collapsed": false,
    "ExecuteTime": {
     "end_time": "2023-05-24T08:37:42.742326Z",
     "start_time": "2023-05-24T08:37:42.739672Z"
    }
   }
  },
  {
   "cell_type": "code",
   "execution_count": 7,
   "outputs": [],
   "source": [
    "movies = movies.rename(columns = {'Movie' : 'movie',\n",
    "                                  'Level' : 'level'})\n",
    "movies.drop(['id'], axis=1, inplace=True)"
   ],
   "metadata": {
    "collapsed": false,
    "ExecuteTime": {
     "end_time": "2023-05-24T08:37:42.744348Z",
     "start_time": "2023-05-24T08:37:42.742741Z"
    }
   }
  },
  {
   "cell_type": "code",
   "execution_count": 8,
   "outputs": [],
   "source": [
    "def process_files(directory):\n",
    "    data = []\n",
    "    for root, _, files in os.walk(directory):\n",
    "        for file in files:\n",
    "            name, ext = os.path.splitext(file)\n",
    "            movie = name\n",
    "            level = os.path.basename(root)\n",
    "            data.append({'movie': movie, 'level': level})\n",
    "    return pd.DataFrame(data)\n",
    "\n",
    "A1 = process_files(f'{PATH_LOCAL}English_scores/Subtitles_all/A1')\n",
    "A2 = process_files(f'{PATH_LOCAL}English_scores/Subtitles_all/A2')\n",
    "B1 = process_files(f'{PATH_LOCAL}English_scores/Subtitles_all/B1')\n",
    "B2 = process_files(f'{PATH_LOCAL}English_scores/Subtitles_all/B2')\n",
    "C1 = process_files(f'{PATH_LOCAL}English_scores/Subtitles_all/C1')"
   ],
   "metadata": {
    "collapsed": false,
    "ExecuteTime": {
     "end_time": "2023-05-24T08:37:42.750812Z",
     "start_time": "2023-05-24T08:37:42.747536Z"
    }
   }
  },
  {
   "cell_type": "code",
   "execution_count": 9,
   "outputs": [],
   "source": [
    "movies_all = pd.concat([movies, A1, A2, B1, B2, C1], ignore_index=True)"
   ],
   "metadata": {
    "collapsed": false,
    "ExecuteTime": {
     "end_time": "2023-05-24T08:37:42.753690Z",
     "start_time": "2023-05-24T08:37:42.752012Z"
    }
   }
  },
  {
   "cell_type": "code",
   "execution_count": 10,
   "outputs": [
    {
     "name": "stdout",
     "output_type": "stream",
     "text": [
      "<class 'pandas.core.frame.DataFrame'>\n",
      "RangeIndex: 444 entries, 0 to 443\n",
      "Data columns (total 2 columns):\n",
      " #   Column  Non-Null Count  Dtype \n",
      "---  ------  --------------  ----- \n",
      " 0   movie   444 non-null    object\n",
      " 1   level   444 non-null    object\n",
      "dtypes: object(2)\n",
      "memory usage: 7.1+ KB\n"
     ]
    }
   ],
   "source": [
    "movies_all.info()"
   ],
   "metadata": {
    "collapsed": false,
    "ExecuteTime": {
     "end_time": "2023-05-24T08:37:42.780496Z",
     "start_time": "2023-05-24T08:37:42.756431Z"
    }
   }
  },
  {
   "cell_type": "markdown",
   "source": [
    "# 1. Предобработка данных #"
   ],
   "metadata": {
    "collapsed": false
   }
  },
  {
   "cell_type": "code",
   "execution_count": 11,
   "outputs": [
    {
     "data": {
      "text/plain": "level\nB2            208\nC1             73\nB1             72\nA1             40\nA2/A2+         26\nA2             12\nB1, B2          8\nA2/A2+, B1      5\nName: count, dtype: int64"
     },
     "execution_count": 11,
     "metadata": {},
     "output_type": "execute_result"
    }
   ],
   "source": [
    "movies_all['level'].value_counts()"
   ],
   "metadata": {
    "collapsed": false,
    "ExecuteTime": {
     "end_time": "2023-05-24T08:37:42.824091Z",
     "start_time": "2023-05-24T08:37:42.759771Z"
    }
   }
  },
  {
   "cell_type": "code",
   "execution_count": 12,
   "outputs": [],
   "source": [
    "# simplify\n",
    "movies_all.loc[movies_all.level == 'A2/A2+', 'level'] = 'A2'\n",
    "movies_all.loc[movies_all.level == 'B1, B2', 'level'] = 'B2'\n",
    "movies_all.loc[movies_all.level == 'A2/A2+, B1', 'level'] = 'B1' #исправлено по комментарию код-ревьюера\n",
    "\n",
    "movies_all['level_num'] = movies_all['level'].map({\n",
    "    'A1': 0,\n",
    "    'A2': 1,\n",
    "    'B1': 2,\n",
    "    'B2': 3,\n",
    "    'C1': 4\n",
    "})"
   ],
   "metadata": {
    "collapsed": false,
    "ExecuteTime": {
     "end_time": "2023-05-24T08:37:42.824352Z",
     "start_time": "2023-05-24T08:37:42.764991Z"
    }
   }
  },
  {
   "cell_type": "code",
   "execution_count": 13,
   "outputs": [
    {
     "data": {
      "text/plain": "level\nB2    216\nB1     77\nC1     73\nA1     40\nA2     38\nName: count, dtype: int64"
     },
     "execution_count": 13,
     "metadata": {},
     "output_type": "execute_result"
    }
   ],
   "source": [
    "movies_all['level'].value_counts()"
   ],
   "metadata": {
    "collapsed": false,
    "ExecuteTime": {
     "end_time": "2023-05-24T08:37:42.824605Z",
     "start_time": "2023-05-24T08:37:42.780703Z"
    }
   }
  },
  {
   "cell_type": "code",
   "execution_count": 14,
   "outputs": [
    {
     "data": {
      "text/plain": "<Figure size 640x480 with 1 Axes>",
      "image/png": "[encoded data removed]"
     },
     "metadata": {},
     "output_type": "display_data"
    }
   ],
   "source": [
    "movies_all['level'].value_counts().plot(\n",
    "    kind='bar', title='Распределение фильмов по уровням сложности языка', grid=True,\n",
    "    xlabel='Уровень сложности', ylabel='Количество фильмов', rot=0\n",
    ");"
   ],
   "metadata": {
    "collapsed": false,
    "ExecuteTime": {
     "end_time": "2023-05-24T08:37:42.916557Z",
     "start_time": "2023-05-24T08:37:42.780982Z"
    }
   }
  },
  {
   "cell_type": "markdown",
   "source": [
    "Конечно, не самый идеальный набор для обучения модели. И файлов мало, и явный перекос в пользу B2, но попробуем поработать с тем, что есть."
   ],
   "metadata": {
    "collapsed": false
   }
  },
  {
   "cell_type": "code",
   "execution_count": 15,
   "outputs": [],
   "source": [
    "movies_all.to_csv('movies_all.csv', index=False)"
   ],
   "metadata": {
    "collapsed": false,
    "ExecuteTime": {
     "end_time": "2023-05-24T08:37:42.919403Z",
     "start_time": "2023-05-24T08:37:42.915698Z"
    }
   }
  },
  {
   "cell_type": "markdown",
   "source": [
    "### 1.2 Разбор файлов субтитров ###"
   ],
   "metadata": {
    "collapsed": false
   }
  },
  {
   "cell_type": "code",
   "execution_count": 16,
   "outputs": [],
   "source": [
    "# Use regexp to cleanup files from tags, html etc.\n",
    "HTML = r'<.*?>'\n",
    "TAG = r'{.*?}'\n",
    "COMMENTS = r'[\\(\\[][A-Za-z ]+[\\)\\]]'\n",
    "UPPER = r'[[A-Za-z ]+[\\:\\]]'\n",
    "LETTERS = r'[^a-zA-Z\\'.,!? ]'\n",
    "SPACES = r'([ ])\\1+'\n",
    "DOTS = r'[\\.]+'\n",
    "SYMB = r\"[^\\w\\d'\\s]\"\n",
    "\n",
    "# Функция для загрузки и лемматизации субтитров\n",
    "def saving_subs(film_loc):\n",
    "    # Загрузка субтитров по кодированию\n",
    "    film_subs = []\n",
    "    encodings = ['', 'UTF-8-SIG', 'ISO-8859-1', 'utf-8', 'Windows-1252', 'ascii']\n",
    "    encoding_number = 0\n",
    "\n",
    "    # Проверка возможности правильности кодирования, иначе - использование другого\n",
    "    while not film_subs:\n",
    "        try:\n",
    "            film_subs = pysrt.open(\n",
    "                film_loc,\n",
    "                encoding=encodings[encoding_number]\n",
    "            )\n",
    "        except UnicodeDecodeError:\n",
    "            encoding_number += 1\n",
    "\n",
    "    #Delete garbage from text\n",
    "    text = re.sub(HTML, ' ', film_subs[1:].text)\n",
    "    text = re.sub(TAG, ' ', text)\n",
    "    text = re.sub(COMMENTS, ' ', text)\n",
    "    text = re.sub(UPPER, ' ', text)\n",
    "    text = re.sub(LETTERS, ' ', text)\n",
    "    text = re.sub(DOTS, r'.', text)\n",
    "    text = re.sub(SPACES, r'\\1', text)\n",
    "    text = re.sub(SYMB, '', text)\n",
    "    text = re.sub('www', '', text)\n",
    "    text = text.lstrip()\n",
    "    text = text.encode('ascii', 'ignore').decode()\n",
    "    text = text.lower()\n",
    "\n",
    "    # Lemmatization\n",
    "    film_words = []\n",
    "    text_list = text.split()\n",
    "    lemmatizer = WordNetLemmatizer()\n",
    "\n",
    "    for i in range(len(text_list)):\n",
    "        word = lemmatizer.lemmatize(text_list[i])\n",
    "        # Check\n",
    "        if word not in film_words:\n",
    "            film_words.append(word)\n",
    "\n",
    "    # Union words into one string\n",
    "    film_words = \" \".join(film_words)\n",
    "    return film_words"
   ],
   "metadata": {
    "collapsed": false,
    "ExecuteTime": {
     "end_time": "2023-05-24T08:37:42.924905Z",
     "start_time": "2023-05-24T08:37:42.923361Z"
    }
   }
  },
  {
   "cell_type": "code",
   "execution_count": 17,
   "outputs": [
    {
     "name": "stdout",
     "output_type": "stream",
     "text": [
      "0\n",
      "1\n",
      "2\n",
      "3\n",
      "4\n",
      "5\n",
      "6\n",
      "7\n",
      "8\n",
      "9\n",
      "10\n",
      "11\n",
      "12\n",
      "13\n",
      "14\n",
      "15\n",
      "16\n",
      "17\n",
      "18\n",
      "19\n",
      "20\n",
      "21\n",
      "22\n",
      "23\n",
      "24\n",
      "25\n",
      "26\n",
      "27\n",
      "28\n",
      "29\n",
      "30\n",
      "31\n",
      "32\n",
      "33\n",
      "34\n",
      "35\n",
      "36\n",
      "37\n",
      "38\n",
      "39\n",
      "40\n",
      "41\n",
      "42\n",
      "43\n",
      "44\n",
      "45\n",
      "46\n",
      "47\n",
      "48\n",
      "49\n",
      "50\n",
      "51\n",
      "52\n",
      "53\n",
      "54\n",
      "55\n",
      "56\n",
      "57\n",
      "58\n",
      "59\n",
      "60\n",
      "61\n",
      "62\n",
      "63\n",
      "64\n",
      "65\n",
      "66\n",
      "67\n",
      "68\n",
      "69\n",
      "70\n",
      "71\n",
      "72\n",
      "73\n",
      "74\n",
      "75\n",
      "76\n",
      "77\n",
      "78\n",
      "79\n",
      "80\n",
      "81\n",
      "82\n",
      "83\n",
      "84\n",
      "85\n",
      "86\n",
      "87\n",
      "88\n",
      "89\n",
      "90\n",
      "91\n",
      "92\n",
      "93\n",
      "94\n",
      "95\n",
      "96\n",
      "97\n",
      "98\n",
      "99\n",
      "100\n",
      "101\n",
      "102\n",
      "103\n",
      "104\n",
      "105\n",
      "106\n",
      "107\n",
      "108\n",
      "109\n",
      "110\n",
      "111\n",
      "112\n",
      "113\n",
      "114\n",
      "115\n",
      "116\n",
      "117\n",
      "118\n",
      "119\n",
      "120\n",
      "121\n",
      "122\n",
      "123\n",
      "124\n",
      "125\n",
      "126\n",
      "127\n",
      "128\n",
      "129\n",
      "130\n",
      "131\n",
      "132\n",
      "133\n",
      "134\n",
      "135\n",
      "136\n",
      "137\n",
      "138\n",
      "139\n",
      "140\n",
      "141\n",
      "142\n",
      "143\n",
      "144\n",
      "145\n",
      "146\n",
      "147\n",
      "148\n",
      "149\n",
      "150\n",
      "151\n",
      "152\n",
      "153\n",
      "154\n",
      "155\n",
      "156\n",
      "157\n",
      "158\n",
      "159\n",
      "160\n",
      "161\n",
      "162\n",
      "163\n",
      "164\n",
      "165\n",
      "166\n",
      "167\n",
      "168\n",
      "169\n",
      "170\n",
      "171\n",
      "172\n",
      "173\n",
      "174\n",
      "175\n",
      "176\n",
      "177\n",
      "178\n",
      "179\n",
      "180\n",
      "181\n",
      "182\n",
      "183\n",
      "184\n",
      "185\n",
      "186\n",
      "187\n",
      "188\n",
      "189\n",
      "190\n",
      "191\n",
      "192\n",
      "193\n",
      "194\n",
      "195\n",
      "196\n",
      "197\n",
      "198\n",
      "199\n",
      "200\n",
      "201\n",
      "202\n",
      "203\n",
      "204\n",
      "205\n",
      "206\n",
      "207\n",
      "208\n",
      "209\n",
      "210\n",
      "211\n",
      "212\n",
      "213\n",
      "214\n",
      "215\n",
      "216\n",
      "217\n",
      "218\n",
      "219\n",
      "220\n",
      "221\n",
      "222\n",
      "223\n",
      "224\n",
      "225\n",
      "226\n",
      "227\n",
      "228\n",
      "229\n",
      "230\n",
      "231\n",
      "232\n",
      "233\n",
      "234\n",
      "235\n",
      "236\n",
      "237\n",
      "238\n",
      "239\n",
      "240\n",
      "241\n",
      "242\n",
      "243\n",
      "244\n",
      "245\n",
      "246\n",
      "247\n",
      "248\n",
      "249\n",
      "250\n",
      "251\n",
      "252\n",
      "253\n",
      "254\n",
      "255\n",
      "256\n",
      "257\n",
      "258\n",
      "259\n",
      "260\n",
      "261\n",
      "262\n",
      "263\n",
      "264\n",
      "265\n",
      "266\n",
      "267\n",
      "268\n",
      "269\n",
      "270\n",
      "271\n",
      "272\n",
      "273\n",
      "274\n",
      "275\n",
      "276\n",
      "277\n",
      "278\n",
      "279\n",
      "280\n",
      "281\n",
      "282\n",
      "283\n",
      "284\n",
      "285\n",
      "286\n",
      "287\n",
      "288\n",
      "289\n",
      "290\n",
      "291\n",
      "292\n",
      "293\n",
      "294\n",
      "295\n",
      "296\n",
      "297\n",
      "298\n",
      "299\n",
      "300\n",
      "301\n",
      "302\n",
      "303\n",
      "304\n",
      "305\n",
      "306\n",
      "307\n",
      "308\n",
      "309\n",
      "310\n",
      "311\n",
      "312\n",
      "313\n",
      "314\n",
      "315\n",
      "316\n",
      "317\n",
      "318\n",
      "319\n",
      "320\n",
      "321\n",
      "322\n",
      "323\n",
      "324\n",
      "325\n",
      "326\n",
      "327\n",
      "328\n",
      "329\n",
      "330\n",
      "331\n",
      "332\n",
      "333\n",
      "334\n",
      "335\n",
      "336\n",
      "337\n",
      "338\n",
      "339\n",
      "340\n",
      "341\n",
      "342\n",
      "343\n",
      "344\n",
      "345\n",
      "346\n",
      "347\n",
      "348\n",
      "349\n",
      "350\n",
      "351\n",
      "352\n",
      "353\n",
      "354\n",
      "355\n",
      "356\n",
      "357\n",
      "358\n",
      "359\n",
      "360\n",
      "361\n",
      "362\n",
      "363\n",
      "364\n",
      "365\n",
      "366\n",
      "367\n",
      "368\n",
      "369\n",
      "370\n",
      "371\n",
      "372\n",
      "373\n",
      "374\n",
      "375\n",
      "376\n",
      "377\n",
      "378\n",
      "379\n",
      "380\n",
      "381\n",
      "382\n",
      "383\n",
      "384\n",
      "385\n",
      "386\n",
      "387\n",
      "388\n",
      "389\n",
      "390\n",
      "391\n",
      "392\n",
      "393\n",
      "394\n",
      "395\n",
      "396\n",
      "397\n",
      "398\n",
      "399\n",
      "400\n",
      "401\n",
      "402\n",
      "403\n",
      "404\n",
      "405\n",
      "406\n",
      "407\n",
      "408\n",
      "409\n",
      "410\n",
      "411\n",
      "412\n",
      "413\n",
      "414\n",
      "415\n",
      "416\n",
      "417\n",
      "418\n",
      "419\n",
      "420\n",
      "421\n",
      "422\n",
      "423\n",
      "424\n",
      "425\n",
      "426\n",
      "427\n",
      "428\n",
      "429\n",
      "430\n",
      "431\n",
      "432\n",
      "433\n",
      "434\n",
      "435\n",
      "436\n",
      "437\n",
      "438\n",
      "439\n",
      "440\n",
      "441\n",
      "442\n",
      "443\n"
     ]
    }
   ],
   "source": [
    "for index, row in movies_all.iterrows():\n",
    "    print(index)\n",
    "    try:\n",
    "        subs = saving_subs(f\"{PATH_LOCAL}English_scores/Subtitles_combined/{row['movie']}.srt\")\n",
    "        movies_all.loc[movies_all['movie'] == row['movie'], 'subs'] = subs\n",
    "    except FileNotFoundError:\n",
    "        pass"
   ],
   "metadata": {
    "collapsed": false,
    "ExecuteTime": {
     "end_time": "2023-05-24T08:38:03.248778Z",
     "start_time": "2023-05-24T08:37:42.926800Z"
    }
   }
  },
  {
   "cell_type": "code",
   "execution_count": 18,
   "outputs": [],
   "source": [
    "# Delete films if we've not found subtitles file\n",
    "movies_all = movies_all[(movies_all['subs'] != '') & (movies_all['subs'].notna())]"
   ],
   "metadata": {
    "collapsed": false,
    "ExecuteTime": {
     "end_time": "2023-05-24T08:38:03.250723Z",
     "start_time": "2023-05-24T08:38:03.249129Z"
    }
   }
  },
  {
   "cell_type": "code",
   "execution_count": 19,
   "outputs": [
    {
     "data": {
      "text/plain": "                              movie level  level_num   \n0         10_Cloverfield_lane(2016)    B1          2  \\\n1  10_things_I_hate_about_you(1999)    B1          2   \n2              A_knights_tale(2001)    B2          3   \n3              A_star_is_born(2018)    B2          3   \n4                     Aladdin(1992)    A2          1   \n\n                                                subs  \n0  michelle please don't hang up just talk to me ...  \n1  i'll be right with you so cameron here go nine...  \n2  should we help him he's due in the list two mi...  \n3  get to it black eye open wide it's time testif...  \n4  where the caravan camel roam it's flat and imm...  ",
      "text/html": "<div>\n<style scoped>\n    .dataframe tbody tr th:only-of-type {\n        vertical-align: middle;\n    }\n\n    .dataframe tbody tr th {\n        vertical-align: top;\n    }\n\n    .dataframe thead th {\n        text-align: right;\n    }\n</style>\n<table border=\"1\" class=\"dataframe\">\n  <thead>\n    <tr style=\"text-align: right;\">\n      <th></th>\n      <th>movie</th>\n      <th>level</th>\n      <th>level_num</th>\n      <th>subs</th>\n    </tr>\n  </thead>\n  <tbody>\n    <tr>\n      <th>0</th>\n      <td>10_Cloverfield_lane(2016)</td>\n      <td>B1</td>\n      <td>2</td>\n      <td>michelle please don't hang up just talk to me ...</td>\n    </tr>\n    <tr>\n      <th>1</th>\n      <td>10_things_I_hate_about_you(1999)</td>\n      <td>B1</td>\n      <td>2</td>\n      <td>i'll be right with you so cameron here go nine...</td>\n    </tr>\n    <tr>\n      <th>2</th>\n      <td>A_knights_tale(2001)</td>\n      <td>B2</td>\n      <td>3</td>\n      <td>should we help him he's due in the list two mi...</td>\n    </tr>\n    <tr>\n      <th>3</th>\n      <td>A_star_is_born(2018)</td>\n      <td>B2</td>\n      <td>3</td>\n      <td>get to it black eye open wide it's time testif...</td>\n    </tr>\n    <tr>\n      <th>4</th>\n      <td>Aladdin(1992)</td>\n      <td>A2</td>\n      <td>1</td>\n      <td>where the caravan camel roam it's flat and imm...</td>\n    </tr>\n  </tbody>\n</table>\n</div>"
     },
     "execution_count": 19,
     "metadata": {},
     "output_type": "execute_result"
    }
   ],
   "source": [
    "movies_all.head()"
   ],
   "metadata": {
    "collapsed": false,
    "ExecuteTime": {
     "end_time": "2023-05-24T08:38:03.255201Z",
     "start_time": "2023-05-24T08:38:03.253180Z"
    }
   }
  },
  {
   "cell_type": "code",
   "execution_count": 20,
   "outputs": [
    {
     "name": "stdout",
     "output_type": "stream",
     "text": [
      "<class 'pandas.core.frame.DataFrame'>\n",
      "Index: 397 entries, 0 to 443\n",
      "Data columns (total 4 columns):\n",
      " #   Column     Non-Null Count  Dtype \n",
      "---  ------     --------------  ----- \n",
      " 0   movie      397 non-null    object\n",
      " 1   level      397 non-null    object\n",
      " 2   level_num  397 non-null    int64 \n",
      " 3   subs       397 non-null    object\n",
      "dtypes: int64(1), object(3)\n",
      "memory usage: 15.5+ KB\n"
     ]
    }
   ],
   "source": [
    "movies_all.info()"
   ],
   "metadata": {
    "collapsed": false,
    "ExecuteTime": {
     "end_time": "2023-05-24T08:38:03.259666Z",
     "start_time": "2023-05-24T08:38:03.257732Z"
    }
   }
  },
  {
   "cell_type": "markdown",
   "source": [
    "Обогатим датасет, добавив некоторые значения, которые мы можем посчитать из лемматизированных субтитров:\n",
    "- Количество уникальных слов\n",
    "- Средняя длина слова\n",
    "- Длина максимального слова\n",
    "- Длина минимального слова\n",
    "- Количество слов, входящих в Окфордский список (разделенное на А1, А2 ... С2)"
   ],
   "metadata": {
    "collapsed": false
   }
  },
  {
   "cell_type": "code",
   "execution_count": 21,
   "outputs": [],
   "source": [
    "#Count unique words\n",
    "def count_unique_words(subs):\n",
    "    words = subs.split()\n",
    "    word_counts = Counter(words)\n",
    "    unique_word_count = len(word_counts)\n",
    "    return unique_word_count\n",
    "\n",
    "movies_all['unique_words'] = movies_all['subs'].apply(count_unique_words)"
   ],
   "metadata": {
    "collapsed": false,
    "ExecuteTime": {
     "end_time": "2023-05-24T08:38:03.327967Z",
     "start_time": "2023-05-24T08:38:03.272384Z"
    }
   }
  },
  {
   "cell_type": "code",
   "execution_count": 22,
   "outputs": [],
   "source": [
    "#minimum length word\n",
    "def find_shortest_word(subs):\n",
    "    words = subs.split()  # разделите строку на слова\n",
    "    shortest_word = min(words, key=len)  # найдите самое короткое слово\n",
    "    return len(shortest_word)  # верните длину самого короткого слова\n",
    "\n",
    "movies_all['min_length_word'] = movies_all['subs'].apply(find_shortest_word)"
   ],
   "metadata": {
    "collapsed": false,
    "ExecuteTime": {
     "end_time": "2023-05-24T08:38:03.349046Z",
     "start_time": "2023-05-24T08:38:03.342039Z"
    }
   }
  },
  {
   "cell_type": "code",
   "execution_count": 23,
   "outputs": [],
   "source": [
    "# max length word\n",
    "def find_longest_word(subs):\n",
    "    words = subs.split()\n",
    "    longest_word = max(words, key=len)\n",
    "    return len(longest_word)\n",
    "\n",
    "movies_all['max_length_word'] = movies_all['subs'].apply(find_longest_word)"
   ],
   "metadata": {
    "collapsed": false,
    "ExecuteTime": {
     "end_time": "2023-05-24T08:38:03.367991Z",
     "start_time": "2023-05-24T08:38:03.351908Z"
    }
   }
  },
  {
   "cell_type": "code",
   "execution_count": 24,
   "outputs": [],
   "source": [
    "#average words length\n",
    "def find_avg_word_length(subs):\n",
    "    words = subs.split()\n",
    "    total_word_length = sum(len(word) for word in words)\n",
    "    return total_word_length / len(words)\n",
    "\n",
    "movies_all['avg_length_word'] = movies_all['subs'].apply(find_avg_word_length)"
   ],
   "metadata": {
    "collapsed": false,
    "ExecuteTime": {
     "end_time": "2023-05-24T08:38:03.401389Z",
     "start_time": "2023-05-24T08:38:03.393203Z"
    }
   }
  },
  {
   "cell_type": "code",
   "execution_count": 25,
   "outputs": [],
   "source": [
    "#words and symbols count\n",
    "def count_words(subs):\n",
    "    return len(subs.split())\n",
    "\n",
    "movies_all['word_count'] = movies_all['subs'].apply(count_words)\n",
    "movies_all['symbols_count'] = movies_all['subs'].apply(len)"
   ],
   "metadata": {
    "collapsed": false,
    "ExecuteTime": {
     "end_time": "2023-05-24T08:38:03.414399Z",
     "start_time": "2023-05-24T08:38:03.412452Z"
    }
   }
  },
  {
   "cell_type": "code",
   "execution_count": 26,
   "outputs": [],
   "source": [
    "#Check subs with Oxford dict\n",
    "words_and_levels = pd.read_csv('words_and_levels.csv')\n",
    "level_dict = dict(zip(words_and_levels['Word'], words_and_levels['Level']))\n",
    "\n",
    "# Count words of level\n",
    "def count_words_by_level(subs):\n",
    "    words = subs.split()  # разбить строку на слова\n",
    "    levels = [level_dict.get(word, 'undefined_level') for word in words]  # получить уровни для каждого слова\n",
    "    counts = pd.Series(levels).value_counts()  # подсчитать количество слов для каждого уровня\n",
    "    return counts\n",
    "\n",
    "level_counts = movies_all['subs'].apply(count_words_by_level)\n",
    "movies_all = pd.concat([movies_all, level_counts], axis=1)"
   ],
   "metadata": {
    "collapsed": false,
    "ExecuteTime": {
     "end_time": "2023-05-24T08:38:03.554332Z",
     "start_time": "2023-05-24T08:38:03.420426Z"
    }
   }
  },
  {
   "cell_type": "code",
   "execution_count": 27,
   "outputs": [
    {
     "data": {
      "text/plain": "                              movie level  level_num   \n0         10_Cloverfield_lane(2016)    B1          2  \\\n1  10_things_I_hate_about_you(1999)    B1          2   \n2              A_knights_tale(2001)    B2          3   \n3              A_star_is_born(2018)    B2          3   \n4                     Aladdin(1992)    A2          1   \n\n                                                subs  unique_words   \n0  michelle please don't hang up just talk to me ...          1026  \\\n1  i'll be right with you so cameron here go nine...          1567   \n2  should we help him he's due in the list two mi...          1470   \n3  get to it black eye open wide it's time testif...          1350   \n4  where the caravan camel roam it's flat and imm...          1484   \n\n   min_length_word  max_length_word  avg_length_word  word_count   \n0                1               16         5.543860        1026  \\\n1                1               14         5.822591        1567   \n2                1               16         5.653741        1470   \n3                1               14         5.465185        1350   \n4                1               14         5.549865        1484   \n\n   symbols_count  undefined_level     A1     A2     B1     B2    C1  \n0           6713            375.0  281.0  133.0  110.0   93.0  34.0  \n1          10690            662.0  345.0  174.0  160.0  163.0  63.0  \n2           9780            618.0  322.0  179.0  145.0  137.0  69.0  \n3           8727            501.0  353.0  194.0  128.0  131.0  43.0  \n4           9719            625.0  315.0  201.0  144.0  143.0  56.0  ",
      "text/html": "<div>\n<style scoped>\n    .dataframe tbody tr th:only-of-type {\n        vertical-align: middle;\n    }\n\n    .dataframe tbody tr th {\n        vertical-align: top;\n    }\n\n    .dataframe thead th {\n        text-align: right;\n    }\n</style>\n<table border=\"1\" class=\"dataframe\">\n  <thead>\n    <tr style=\"text-align: right;\">\n      <th></th>\n      <th>movie</th>\n      <th>level</th>\n      <th>level_num</th>\n      <th>subs</th>\n      <th>unique_words</th>\n      <th>min_length_word</th>\n      <th>max_length_word</th>\n      <th>avg_length_word</th>\n      <th>word_count</th>\n      <th>symbols_count</th>\n      <th>undefined_level</th>\n      <th>A1</th>\n      <th>A2</th>\n      <th>B1</th>\n      <th>B2</th>\n      <th>C1</th>\n    </tr>\n  </thead>\n  <tbody>\n    <tr>\n      <th>0</th>\n      <td>10_Cloverfield_lane(2016)</td>\n      <td>B1</td>\n      <td>2</td>\n      <td>michelle please don't hang up just talk to me ...</td>\n      <td>1026</td>\n      <td>1</td>\n      <td>16</td>\n      <td>5.543860</td>\n      <td>1026</td>\n      <td>6713</td>\n      <td>375.0</td>\n      <td>281.0</td>\n      <td>133.0</td>\n      <td>110.0</td>\n      <td>93.0</td>\n      <td>34.0</td>\n    </tr>\n    <tr>\n      <th>1</th>\n      <td>10_things_I_hate_about_you(1999)</td>\n      <td>B1</td>\n      <td>2</td>\n      <td>i'll be right with you so cameron here go nine...</td>\n      <td>1567</td>\n      <td>1</td>\n      <td>14</td>\n      <td>5.822591</td>\n      <td>1567</td>\n      <td>10690</td>\n      <td>662.0</td>\n      <td>345.0</td>\n      <td>174.0</td>\n      <td>160.0</td>\n      <td>163.0</td>\n      <td>63.0</td>\n    </tr>\n    <tr>\n      <th>2</th>\n      <td>A_knights_tale(2001)</td>\n      <td>B2</td>\n      <td>3</td>\n      <td>should we help him he's due in the list two mi...</td>\n      <td>1470</td>\n      <td>1</td>\n      <td>16</td>\n      <td>5.653741</td>\n      <td>1470</td>\n      <td>9780</td>\n      <td>618.0</td>\n      <td>322.0</td>\n      <td>179.0</td>\n      <td>145.0</td>\n      <td>137.0</td>\n      <td>69.0</td>\n    </tr>\n    <tr>\n      <th>3</th>\n      <td>A_star_is_born(2018)</td>\n      <td>B2</td>\n      <td>3</td>\n      <td>get to it black eye open wide it's time testif...</td>\n      <td>1350</td>\n      <td>1</td>\n      <td>14</td>\n      <td>5.465185</td>\n      <td>1350</td>\n      <td>8727</td>\n      <td>501.0</td>\n      <td>353.0</td>\n      <td>194.0</td>\n      <td>128.0</td>\n      <td>131.0</td>\n      <td>43.0</td>\n    </tr>\n    <tr>\n      <th>4</th>\n      <td>Aladdin(1992)</td>\n      <td>A2</td>\n      <td>1</td>\n      <td>where the caravan camel roam it's flat and imm...</td>\n      <td>1484</td>\n      <td>1</td>\n      <td>14</td>\n      <td>5.549865</td>\n      <td>1484</td>\n      <td>9719</td>\n      <td>625.0</td>\n      <td>315.0</td>\n      <td>201.0</td>\n      <td>144.0</td>\n      <td>143.0</td>\n      <td>56.0</td>\n    </tr>\n  </tbody>\n</table>\n</div>"
     },
     "execution_count": 27,
     "metadata": {},
     "output_type": "execute_result"
    }
   ],
   "source": [
    "movies_all.head()"
   ],
   "metadata": {
    "collapsed": false,
    "ExecuteTime": {
     "end_time": "2023-05-24T08:38:03.561840Z",
     "start_time": "2023-05-24T08:38:03.558975Z"
    }
   }
  },
  {
   "cell_type": "code",
   "execution_count": 28,
   "outputs": [
    {
     "data": {
      "text/plain": "<Figure size 1500x1500 with 16 Axes>",
      "image/png": "[encoded data removed]"
     },
     "metadata": {},
     "output_type": "display_data"
    }
   ],
   "source": [
    "movies_all.hist(figsize=(15, 15))\n",
    "plt.show()"
   ],
   "metadata": {
    "collapsed": false,
    "ExecuteTime": {
     "end_time": "2023-05-24T08:38:04.596311Z",
     "start_time": "2023-05-24T08:38:03.564360Z"
    }
   }
  },
  {
   "cell_type": "code",
   "execution_count": 29,
   "outputs": [
    {
     "data": {
      "text/plain": "<Figure size 1000x800 with 2 Axes>",
      "image/png": "[encoded data removed]"
     },
     "metadata": {},
     "output_type": "display_data"
    }
   ],
   "source": [
    "numeric = ['level_num','unique_words', 'min_length_word', 'max_length_word', 'avg_length_word', 'word_count', 'symbols_count', 'undefined_level', 'A1', 'A2', 'B1', 'B2', 'C1']\n",
    "corr_matrix = movies_all[numeric].corr()\n",
    "\n",
    "# построить график корреляций\n",
    "sns.set(style='white')\n",
    "mask = np.triu(np.ones_like(corr_matrix, dtype=bool))\n",
    "cmap = sns.diverging_palette(220, 10, as_cmap=True)\n",
    "plt.figure(figsize=(10, 8))\n",
    "sns.heatmap(corr_matrix, mask=mask, cmap=cmap, vmax=.3, center=0,\n",
    "            square=True, linewidths=.5, cbar_kws={\"shrink\": .5})\n",
    "plt.title('Correlation Matrix')\n",
    "plt.show()"
   ],
   "metadata": {
    "collapsed": false,
    "ExecuteTime": {
     "end_time": "2023-05-24T08:38:04.776788Z",
     "start_time": "2023-05-24T08:38:04.597866Z"
    }
   }
  },
  {
   "cell_type": "markdown",
   "source": [
    "Кажется, что колонка min_length_word не имеет значения, т.к. там у всех субтитров значение 1, очевидно, в любых субтитрах будет артикль a. Поэтому, удалим, пожалуй, эту колонку. Колонку level тоже удалим, она у нас закодирована в level_num."
   ],
   "metadata": {
    "collapsed": false
   }
  },
  {
   "cell_type": "code",
   "execution_count": 30,
   "outputs": [],
   "source": [
    "movies_all.drop('min_length_word', axis=1, inplace=True)\n",
    "movies_all.drop('level', axis=1, inplace=True)"
   ],
   "metadata": {
    "collapsed": false,
    "ExecuteTime": {
     "end_time": "2023-05-24T08:38:04.780107Z",
     "start_time": "2023-05-24T08:38:04.778239Z"
    }
   }
  },
  {
   "cell_type": "code",
   "execution_count": 31,
   "outputs": [
    {
     "data": {
      "text/plain": "                 level_num  unique_words  max_length_word  avg_length_word   \nlevel_num         1.000000     -0.061947        -0.049923         0.214157  \\\nunique_words     -0.061947      1.000000         0.409907         0.603489   \nmax_length_word  -0.049923      0.409907         1.000000         0.382122   \navg_length_word   0.214157      0.603489         0.382122         1.000000   \nword_count       -0.061947      1.000000         0.409907         0.603489   \nsymbols_count    -0.033385      0.994889         0.421047         0.666079   \nundefined_level  -0.084282      0.981948         0.372029         0.520091   \nA1               -0.065875      0.932128         0.386024         0.494314   \nA2               -0.077129      0.968623         0.439563         0.628870   \nB1                0.007176      0.957455         0.395102         0.688926   \nB2               -0.005162      0.932839         0.418777         0.721758   \nC1               -0.018441      0.856085         0.374727         0.694227   \n\n                 word_count  symbols_count  undefined_level        A1   \nlevel_num         -0.061947      -0.033385        -0.084282 -0.065875  \\\nunique_words       1.000000       0.994889         0.981948  0.932128   \nmax_length_word    0.409907       0.421047         0.372029  0.386024   \navg_length_word    0.603489       0.666079         0.520091  0.494314   \nword_count         1.000000       0.994889         0.981948  0.932128   \nsymbols_count      0.994889       1.000000         0.970238  0.910144   \nundefined_level    0.981948       0.970238         1.000000  0.888035   \nA1                 0.932128       0.910144         0.888035  1.000000   \nA2                 0.968623       0.967274         0.921785  0.921258   \nB1                 0.957455       0.966403         0.910093  0.876310   \nB2                 0.932839       0.952727         0.881811  0.812554   \nC1                 0.856085       0.881055         0.823337  0.682726   \n\n                       A2        B1        B2        C1  \nlevel_num       -0.077129  0.007176 -0.005162 -0.018441  \nunique_words     0.968623  0.957455  0.932839  0.856085  \nmax_length_word  0.439563  0.395102  0.418777  0.374727  \navg_length_word  0.628870  0.688926  0.721758  0.694227  \nword_count       0.968623  0.957455  0.932839  0.856085  \nsymbols_count    0.967274  0.966403  0.952727  0.881055  \nundefined_level  0.921785  0.910093  0.881811  0.823337  \nA1               0.921258  0.876310  0.812554  0.682726  \nA2               1.000000  0.940787  0.915570  0.816393  \nB1               0.940787  1.000000  0.930017  0.862618  \nB2               0.915570  0.930017  1.000000  0.891612  \nC1               0.816393  0.862618  0.891612  1.000000  ",
      "text/html": "<div>\n<style scoped>\n    .dataframe tbody tr th:only-of-type {\n        vertical-align: middle;\n    }\n\n    .dataframe tbody tr th {\n        vertical-align: top;\n    }\n\n    .dataframe thead th {\n        text-align: right;\n    }\n</style>\n<table border=\"1\" class=\"dataframe\">\n  <thead>\n    <tr style=\"text-align: right;\">\n      <th></th>\n      <th>level_num</th>\n      <th>unique_words</th>\n      <th>max_length_word</th>\n      <th>avg_length_word</th>\n      <th>word_count</th>\n      <th>symbols_count</th>\n      <th>undefined_level</th>\n      <th>A1</th>\n      <th>A2</th>\n      <th>B1</th>\n      <th>B2</th>\n      <th>C1</th>\n    </tr>\n  </thead>\n  <tbody>\n    <tr>\n      <th>level_num</th>\n      <td>1.000000</td>\n      <td>-0.061947</td>\n      <td>-0.049923</td>\n      <td>0.214157</td>\n      <td>-0.061947</td>\n      <td>-0.033385</td>\n      <td>-0.084282</td>\n      <td>-0.065875</td>\n      <td>-0.077129</td>\n      <td>0.007176</td>\n      <td>-0.005162</td>\n      <td>-0.018441</td>\n    </tr>\n    <tr>\n      <th>unique_words</th>\n      <td>-0.061947</td>\n      <td>1.000000</td>\n      <td>0.409907</td>\n      <td>0.603489</td>\n      <td>1.000000</td>\n      <td>0.994889</td>\n      <td>0.981948</td>\n      <td>0.932128</td>\n      <td>0.968623</td>\n      <td>0.957455</td>\n      <td>0.932839</td>\n      <td>0.856085</td>\n    </tr>\n    <tr>\n      <th>max_length_word</th>\n      <td>-0.049923</td>\n      <td>0.409907</td>\n      <td>1.000000</td>\n      <td>0.382122</td>\n      <td>0.409907</td>\n      <td>0.421047</td>\n      <td>0.372029</td>\n      <td>0.386024</td>\n      <td>0.439563</td>\n      <td>0.395102</td>\n      <td>0.418777</td>\n      <td>0.374727</td>\n    </tr>\n    <tr>\n      <th>avg_length_word</th>\n      <td>0.214157</td>\n      <td>0.603489</td>\n      <td>0.382122</td>\n      <td>1.000000</td>\n      <td>0.603489</td>\n      <td>0.666079</td>\n      <td>0.520091</td>\n      <td>0.494314</td>\n      <td>0.628870</td>\n      <td>0.688926</td>\n      <td>0.721758</td>\n      <td>0.694227</td>\n    </tr>\n    <tr>\n      <th>word_count</th>\n      <td>-0.061947</td>\n      <td>1.000000</td>\n      <td>0.409907</td>\n      <td>0.603489</td>\n      <td>1.000000</td>\n      <td>0.994889</td>\n      <td>0.981948</td>\n      <td>0.932128</td>\n      <td>0.968623</td>\n      <td>0.957455</td>\n      <td>0.932839</td>\n      <td>0.856085</td>\n    </tr>\n    <tr>\n      <th>symbols_count</th>\n      <td>-0.033385</td>\n      <td>0.994889</td>\n      <td>0.421047</td>\n      <td>0.666079</td>\n      <td>0.994889</td>\n      <td>1.000000</td>\n      <td>0.970238</td>\n      <td>0.910144</td>\n      <td>0.967274</td>\n      <td>0.966403</td>\n      <td>0.952727</td>\n      <td>0.881055</td>\n    </tr>\n    <tr>\n      <th>undefined_level</th>\n      <td>-0.084282</td>\n      <td>0.981948</td>\n      <td>0.372029</td>\n      <td>0.520091</td>\n      <td>0.981948</td>\n      <td>0.970238</td>\n      <td>1.000000</td>\n      <td>0.888035</td>\n      <td>0.921785</td>\n      <td>0.910093</td>\n      <td>0.881811</td>\n      <td>0.823337</td>\n    </tr>\n    <tr>\n      <th>A1</th>\n      <td>-0.065875</td>\n      <td>0.932128</td>\n      <td>0.386024</td>\n      <td>0.494314</td>\n      <td>0.932128</td>\n      <td>0.910144</td>\n      <td>0.888035</td>\n      <td>1.000000</td>\n      <td>0.921258</td>\n      <td>0.876310</td>\n      <td>0.812554</td>\n      <td>0.682726</td>\n    </tr>\n    <tr>\n      <th>A2</th>\n      <td>-0.077129</td>\n      <td>0.968623</td>\n      <td>0.439563</td>\n      <td>0.628870</td>\n      <td>0.968623</td>\n      <td>0.967274</td>\n      <td>0.921785</td>\n      <td>0.921258</td>\n      <td>1.000000</td>\n      <td>0.940787</td>\n      <td>0.915570</td>\n      <td>0.816393</td>\n    </tr>\n    <tr>\n      <th>B1</th>\n      <td>0.007176</td>\n      <td>0.957455</td>\n      <td>0.395102</td>\n      <td>0.688926</td>\n      <td>0.957455</td>\n      <td>0.966403</td>\n      <td>0.910093</td>\n      <td>0.876310</td>\n      <td>0.940787</td>\n      <td>1.000000</td>\n      <td>0.930017</td>\n      <td>0.862618</td>\n    </tr>\n    <tr>\n      <th>B2</th>\n      <td>-0.005162</td>\n      <td>0.932839</td>\n      <td>0.418777</td>\n      <td>0.721758</td>\n      <td>0.932839</td>\n      <td>0.952727</td>\n      <td>0.881811</td>\n      <td>0.812554</td>\n      <td>0.915570</td>\n      <td>0.930017</td>\n      <td>1.000000</td>\n      <td>0.891612</td>\n    </tr>\n    <tr>\n      <th>C1</th>\n      <td>-0.018441</td>\n      <td>0.856085</td>\n      <td>0.374727</td>\n      <td>0.694227</td>\n      <td>0.856085</td>\n      <td>0.881055</td>\n      <td>0.823337</td>\n      <td>0.682726</td>\n      <td>0.816393</td>\n      <td>0.862618</td>\n      <td>0.891612</td>\n      <td>1.000000</td>\n    </tr>\n  </tbody>\n</table>\n</div>"
     },
     "execution_count": 31,
     "metadata": {},
     "output_type": "execute_result"
    }
   ],
   "source": [
    "numeric = ['level_num','unique_words', 'max_length_word', 'avg_length_word', 'word_count', 'symbols_count', 'undefined_level', 'A1', 'A2', 'B1', 'B2', 'C1']\n",
    "corr_matrix = movies_all[numeric].corr()\n",
    "corr_matrix"
   ],
   "metadata": {
    "collapsed": false,
    "ExecuteTime": {
     "end_time": "2023-05-24T08:38:04.788603Z",
     "start_time": "2023-05-24T08:38:04.786136Z"
    }
   }
  },
  {
   "cell_type": "code",
   "execution_count": 32,
   "outputs": [
    {
     "data": {
      "text/plain": "<Figure size 640x480 with 2 Axes>",
      "image/png": "[encoded data removed]"
     },
     "metadata": {},
     "output_type": "display_data"
    }
   ],
   "source": [
    "plt.imshow(corr_matrix, cmap='coolwarm')\n",
    "plt.colorbar()\n",
    "plt.xticks(range(len(corr_matrix.columns)), corr_matrix.columns, rotation=90)\n",
    "plt.yticks(range(len(corr_matrix.columns)), corr_matrix.columns)\n",
    "plt.show()"
   ],
   "metadata": {
    "collapsed": false,
    "ExecuteTime": {
     "end_time": "2023-05-24T08:38:04.924039Z",
     "start_time": "2023-05-24T08:38:04.792087Z"
    }
   }
  },
  {
   "cell_type": "markdown",
   "source": [
    "Интересная картинка, конечно. Уровень субтитров, указанный в исходных данных, почти никак не коррелирует ни с оксфордским словарём, ни с другими параметрами. Поэтому, использовать слишком коррелирующие значения в предсказаниях бессмысленно. Будем использовать только колонку level_num и текст субтитров."
   ],
   "metadata": {
    "collapsed": false
   }
  },
  {
   "cell_type": "markdown",
   "source": [
    "## 2. Выбор метрики и создание модели ##"
   ],
   "metadata": {
    "collapsed": false
   }
  },
  {
   "cell_type": "markdown",
   "source": [
    "У нас задача классификации. Для этого нам лучше всего использовать метрику f1 для определения качества работы модели. Она сочетает в себе и точность (precision), и полноту (recall). Но мы имеем дело с мультиклассификацией (один и тот же текст может относиться к нескольким уровням), то необходимо воспользоваться \"Макро F1-мерой\" (показывает среднее значение F1-меры по классам) и \"Микро F1-мерой\" (глобальная средняя F1-меры, вычисляющая сумму TP, FN и FP).\n",
    "Таким образом, для определения качества моделей будем использовать f1_micro и f1_macro."
   ],
   "metadata": {
    "collapsed": false
   }
  },
  {
   "cell_type": "code",
   "execution_count": 33,
   "outputs": [],
   "source": [
    "columns = ['subs','unique_words', 'max_length_word', 'avg_length_word', 'word_count', 'symbols_count', 'undefined_level', 'A1', 'A2', 'B1', 'B2', 'C1']\n",
    "X = movies_all['subs']\n",
    "y = movies_all['level_num']"
   ],
   "metadata": {
    "collapsed": false,
    "ExecuteTime": {
     "end_time": "2023-05-24T08:38:04.925443Z",
     "start_time": "2023-05-24T08:38:04.924455Z"
    }
   }
  },
  {
   "cell_type": "code",
   "execution_count": 34,
   "outputs": [],
   "source": [
    "X_train, X_test, y_train, y_test = train_test_split(\n",
    "    X, y,\n",
    "    test_size=0.2,\n",
    "    random_state=42\n",
    ")"
   ],
   "metadata": {
    "collapsed": false,
    "ExecuteTime": {
     "end_time": "2023-05-24T08:38:04.929786Z",
     "start_time": "2023-05-24T08:38:04.926900Z"
    }
   }
  },
  {
   "cell_type": "code",
   "execution_count": 35,
   "outputs": [],
   "source": [
    "# Predict and print metrics\n",
    "vectorizer = TfidfVectorizer(stop_words='english')\n",
    "\n",
    "def count_and_print_f1_score(model):\n",
    "    pipe = Pipeline([\n",
    "        ('vectorizer', vectorizer),\n",
    "        ('model', model)\n",
    "    ])\n",
    "\n",
    "    pipe.fit(X_train, y_train)\n",
    "    y_pred = pipe.predict(X_test)\n",
    "\n",
    "    # Check\n",
    "    print(f\"{model}:\")\n",
    "    print(\"\\tf1_micro: {:.4f}\".format(f1_score(y_test, y_pred, average='micro')))\n",
    "    print(\"\\tf1_macro: {:.4f}\".format(f1_score(y_test, y_pred, average='macro')))"
   ],
   "metadata": {
    "collapsed": false,
    "ExecuteTime": {
     "end_time": "2023-05-24T08:38:04.933241Z",
     "start_time": "2023-05-24T08:38:04.931493Z"
    }
   }
  },
  {
   "cell_type": "code",
   "execution_count": 36,
   "outputs": [
    {
     "name": "stdout",
     "output_type": "stream",
     "text": [
      "DecisionTreeClassifier(criterion='entropy', max_depth=20, random_state=42):\n",
      "\tf1_micro: 0.6250\n",
      "\tf1_macro: 0.4464\n"
     ]
    }
   ],
   "source": [
    "tree_model = DecisionTreeClassifier(random_state=42, max_depth=20, criterion='entropy')\n",
    "count_and_print_f1_score(tree_model)"
   ],
   "metadata": {
    "collapsed": false,
    "ExecuteTime": {
     "end_time": "2023-05-24T08:38:05.330619Z",
     "start_time": "2023-05-24T08:38:04.995398Z"
    }
   }
  },
  {
   "cell_type": "code",
   "execution_count": 37,
   "outputs": [
    {
     "name": "stdout",
     "output_type": "stream",
     "text": [
      "LogisticRegression(C=35, max_iter=300, random_state=42):\n",
      "\tf1_micro: 0.7500\n",
      "\tf1_macro: 0.5196\n"
     ]
    }
   ],
   "source": [
    "logreg_model = LogisticRegression(random_state=42, max_iter=300, C=35)\n",
    "count_and_print_f1_score(logreg_model)"
   ],
   "metadata": {
    "collapsed": false,
    "ExecuteTime": {
     "end_time": "2023-05-24T08:38:06.435634Z",
     "start_time": "2023-05-24T08:38:05.330336Z"
    }
   }
  },
  {
   "cell_type": "code",
   "execution_count": 38,
   "outputs": [
    {
     "name": "stdout",
     "output_type": "stream",
     "text": [
      "RidgeClassifier(alpha=0.1, random_state=42):\n",
      "\tf1_micro: 0.7625\n",
      "\tf1_macro: 0.5361\n"
     ]
    }
   ],
   "source": [
    "ridge_model = RidgeClassifier(random_state=42, alpha=0.1)\n",
    "count_and_print_f1_score(ridge_model)"
   ],
   "metadata": {
    "collapsed": false,
    "ExecuteTime": {
     "end_time": "2023-05-24T08:38:06.707173Z",
     "start_time": "2023-05-24T08:38:06.493051Z"
    }
   }
  },
  {
   "cell_type": "code",
   "execution_count": 39,
   "outputs": [
    {
     "name": "stdout",
     "output_type": "stream",
     "text": [
      "SGDClassifier(l1_ratio=0.01, loss='huber', penalty='elasticnet',\n",
      "              random_state=42):\n",
      "\tf1_micro: 0.7750\n",
      "\tf1_macro: 0.5433\n"
     ]
    }
   ],
   "source": [
    "svc_model = SGDClassifier(random_state=42, loss='huber', alpha=0.0001, penalty='elasticnet', l1_ratio=0.01)\n",
    "count_and_print_f1_score(svc_model)"
   ],
   "metadata": {
    "collapsed": false,
    "ExecuteTime": {
     "end_time": "2023-05-24T08:38:07.050967Z",
     "start_time": "2023-05-24T08:38:06.706583Z"
    }
   }
  },
  {
   "cell_type": "code",
   "execution_count": 40,
   "outputs": [
    {
     "name": "stdout",
     "output_type": "stream",
     "text": [
      "LinearSVC(C=3, random_state=42):\n",
      "\tf1_micro: 0.7750\n",
      "\tf1_macro: 0.5433\n"
     ]
    }
   ],
   "source": [
    "svc_model = LinearSVC(random_state=42, C=3)\n",
    "count_and_print_f1_score(svc_model)"
   ],
   "metadata": {
    "collapsed": false,
    "ExecuteTime": {
     "end_time": "2023-05-24T08:38:07.440317Z",
     "start_time": "2023-05-24T08:38:07.082845Z"
    }
   }
  },
  {
   "cell_type": "markdown",
   "source": [
    "Из 6 рассмотренных моделей наилучший результат по метрикам 'f1_micro' и 'f1_macro' продемонстрировала модель:\n",
    "LinearSVC(C=3, random_state=42):\n",
    "\t- f1_micro: 0.7750\n",
    "\t- f1_macro: 0.5433\n",
    "\n",
    "Поиграем с её гиперпараметрами, чтобы получить наилучшие значения f1_micro и f1_macro"
   ],
   "metadata": {
    "collapsed": false
   }
  },
  {
   "cell_type": "code",
   "execution_count": 44,
   "outputs": [
    {
     "name": "stderr",
     "output_type": "stream",
     "text": [
      "/Users/kuuuzya/PythonProjects/Practicum/Master_2_Subtitles/venv/lib/python3.9/site-packages/sklearn/svm/_base.py:1244: ConvergenceWarning: Liblinear failed to converge, increase the number of iterations.\n",
      "  warnings.warn(\n",
      "/Users/kuuuzya/PythonProjects/Practicum/Master_2_Subtitles/venv/lib/python3.9/site-packages/sklearn/svm/_base.py:1244: ConvergenceWarning: Liblinear failed to converge, increase the number of iterations.\n",
      "  warnings.warn(\n",
      "/Users/kuuuzya/PythonProjects/Practicum/Master_2_Subtitles/venv/lib/python3.9/site-packages/sklearn/svm/_base.py:1244: ConvergenceWarning: Liblinear failed to converge, increase the number of iterations.\n",
      "  warnings.warn(\n",
      "/Users/kuuuzya/PythonProjects/Practicum/Master_2_Subtitles/venv/lib/python3.9/site-packages/sklearn/svm/_base.py:1244: ConvergenceWarning: Liblinear failed to converge, increase the number of iterations.\n",
      "  warnings.warn(\n",
      "/Users/kuuuzya/PythonProjects/Practicum/Master_2_Subtitles/venv/lib/python3.9/site-packages/sklearn/svm/_base.py:1244: ConvergenceWarning: Liblinear failed to converge, increase the number of iterations.\n",
      "  warnings.warn(\n",
      "/Users/kuuuzya/PythonProjects/Practicum/Master_2_Subtitles/venv/lib/python3.9/site-packages/sklearn/svm/_base.py:1244: ConvergenceWarning: Liblinear failed to converge, increase the number of iterations.\n",
      "  warnings.warn(\n",
      "/Users/kuuuzya/PythonProjects/Practicum/Master_2_Subtitles/venv/lib/python3.9/site-packages/sklearn/svm/_base.py:1244: ConvergenceWarning: Liblinear failed to converge, increase the number of iterations.\n",
      "  warnings.warn(\n",
      "/Users/kuuuzya/PythonProjects/Practicum/Master_2_Subtitles/venv/lib/python3.9/site-packages/sklearn/svm/_base.py:1244: ConvergenceWarning: Liblinear failed to converge, increase the number of iterations.\n",
      "  warnings.warn(\n",
      "/Users/kuuuzya/PythonProjects/Practicum/Master_2_Subtitles/venv/lib/python3.9/site-packages/sklearn/svm/_base.py:1244: ConvergenceWarning: Liblinear failed to converge, increase the number of iterations.\n",
      "  warnings.warn(\n",
      "/Users/kuuuzya/PythonProjects/Practicum/Master_2_Subtitles/venv/lib/python3.9/site-packages/sklearn/svm/_base.py:1244: ConvergenceWarning: Liblinear failed to converge, increase the number of iterations.\n",
      "  warnings.warn(\n",
      "/Users/kuuuzya/PythonProjects/Practicum/Master_2_Subtitles/venv/lib/python3.9/site-packages/sklearn/svm/_base.py:1244: ConvergenceWarning: Liblinear failed to converge, increase the number of iterations.\n",
      "  warnings.warn(\n",
      "/Users/kuuuzya/PythonProjects/Practicum/Master_2_Subtitles/venv/lib/python3.9/site-packages/sklearn/svm/_base.py:1244: ConvergenceWarning: Liblinear failed to converge, increase the number of iterations.\n",
      "  warnings.warn(\n",
      "/Users/kuuuzya/PythonProjects/Practicum/Master_2_Subtitles/venv/lib/python3.9/site-packages/sklearn/svm/_base.py:1244: ConvergenceWarning: Liblinear failed to converge, increase the number of iterations.\n",
      "  warnings.warn(\n",
      "/Users/kuuuzya/PythonProjects/Practicum/Master_2_Subtitles/venv/lib/python3.9/site-packages/sklearn/svm/_base.py:1244: ConvergenceWarning: Liblinear failed to converge, increase the number of iterations.\n",
      "  warnings.warn(\n",
      "/Users/kuuuzya/PythonProjects/Practicum/Master_2_Subtitles/venv/lib/python3.9/site-packages/sklearn/svm/_base.py:1244: ConvergenceWarning: Liblinear failed to converge, increase the number of iterations.\n",
      "  warnings.warn(\n",
      "/Users/kuuuzya/PythonProjects/Practicum/Master_2_Subtitles/venv/lib/python3.9/site-packages/sklearn/svm/_base.py:1244: ConvergenceWarning: Liblinear failed to converge, increase the number of iterations.\n",
      "  warnings.warn(\n",
      "/Users/kuuuzya/PythonProjects/Practicum/Master_2_Subtitles/venv/lib/python3.9/site-packages/sklearn/svm/_base.py:1244: ConvergenceWarning: Liblinear failed to converge, increase the number of iterations.\n",
      "  warnings.warn(\n",
      "/Users/kuuuzya/PythonProjects/Practicum/Master_2_Subtitles/venv/lib/python3.9/site-packages/sklearn/svm/_base.py:1244: ConvergenceWarning: Liblinear failed to converge, increase the number of iterations.\n",
      "  warnings.warn(\n",
      "/Users/kuuuzya/PythonProjects/Practicum/Master_2_Subtitles/venv/lib/python3.9/site-packages/sklearn/svm/_base.py:1244: ConvergenceWarning: Liblinear failed to converge, increase the number of iterations.\n",
      "  warnings.warn(\n",
      "/Users/kuuuzya/PythonProjects/Practicum/Master_2_Subtitles/venv/lib/python3.9/site-packages/sklearn/svm/_base.py:1244: ConvergenceWarning: Liblinear failed to converge, increase the number of iterations.\n",
      "  warnings.warn(\n",
      "/Users/kuuuzya/PythonProjects/Practicum/Master_2_Subtitles/venv/lib/python3.9/site-packages/sklearn/svm/_base.py:1244: ConvergenceWarning: Liblinear failed to converge, increase the number of iterations.\n",
      "  warnings.warn(\n",
      "/Users/kuuuzya/PythonProjects/Practicum/Master_2_Subtitles/venv/lib/python3.9/site-packages/sklearn/svm/_base.py:1244: ConvergenceWarning: Liblinear failed to converge, increase the number of iterations.\n",
      "  warnings.warn(\n"
     ]
    },
    {
     "name": "stdout",
     "output_type": "stream",
     "text": [
      "Best f1_micro score: 0.8045\n",
      "Best parameters:  {'model__C': 10, 'model__class_weight': None, 'model__max_iter': 3000, 'model__penalty': 'l2', 'model__tol': 0.001}\n",
      "\tf1_micro: 0.7625\n",
      "\tf1_macro: 0.5361\n"
     ]
    }
   ],
   "source": [
    "# Define pipeline\n",
    "pipeline = Pipeline([\n",
    "    ('vectorizer', TfidfVectorizer(stop_words='english')),\n",
    "    ('model', LinearSVC(random_state=42))\n",
    "])\n",
    "\n",
    "# Define hyperparameters\n",
    "parameters = {\n",
    "    'model__C': [0.1, 1, 3, 5, 10, 100],\n",
    "    'model__penalty': ['l1', 'l2'],\n",
    "    'model__max_iter': [3000, 5000],\n",
    "    'model__tol': [1e-3, 1e-4, 1e-5],\n",
    "    'model__class_weight': ['balanced', None]\n",
    "}\n",
    "\n",
    "# Create grid search object\n",
    "grid_search = GridSearchCV(pipeline, parameters, cv=5, n_jobs=-1, scoring=['f1_micro', 'f1_macro'], refit='f1_micro')\n",
    "# Fit grid search object to data\n",
    "grid_search.fit(X_train, y_train)\n",
    "\n",
    "# Print best score and parameters\n",
    "print(\"Best f1_micro score: {:.4f}\".format(grid_search.best_score_))\n",
    "print(\"Best parameters: \", grid_search.best_params_)\n",
    "\n",
    "# Calculate f1 scores with best estimator\n",
    "best_model = grid_search.best_estimator_\n",
    "y_pred = best_model.predict(X_test)\n",
    "print(\"\\tf1_micro: {:.4f}\".format(f1_score(y_test, y_pred, average='micro')))\n",
    "print(\"\\tf1_macro: {:.4f}\".format(f1_score(y_test, y_pred, average='macro')))"
   ],
   "metadata": {
    "collapsed": false,
    "ExecuteTime": {
     "end_time": "2023-05-24T08:42:04.122164Z",
     "start_time": "2023-05-24T08:41:13.727120Z"
    }
   }
  },
  {
   "cell_type": "code",
   "execution_count": 42,
   "outputs": [
    {
     "name": "stdout",
     "output_type": "stream",
     "text": [
      "LinearSVC(C=100, dual=False, max_iter=5000, penalty='l1', random_state=42,\n",
      "          tol=1e-05):\n",
      "\tf1_micro: 0.7500\n",
      "\tf1_macro: 0.5357\n"
     ]
    }
   ],
   "source": [
    "count_and_print_f1_score(best_model.named_steps['model'])"
   ],
   "metadata": {
    "collapsed": false,
    "ExecuteTime": {
     "end_time": "2023-05-24T08:39:53.511343Z",
     "start_time": "2023-05-24T08:39:53.054167Z"
    }
   }
  },
  {
   "cell_type": "markdown",
   "source": [
    "Тюнинг ухудшил модель, возьмём исходную, можно переходить к сохранению модели в файл и созданию приложения."
   ],
   "metadata": {
    "collapsed": false
   }
  },
  {
   "cell_type": "markdown",
   "source": [
    "### Создание приложения"
   ],
   "metadata": {
    "collapsed": false
   }
  },
  {
   "cell_type": "code",
   "execution_count": 47,
   "outputs": [],
   "source": [
    "from pickle import dump\n",
    "\n",
    "best_model.fit(X_train, y_train)\n",
    "\n",
    "with open('./main.pcl', 'wb') as model_file:\n",
    "    dump(best_model, model_file)"
   ],
   "metadata": {
    "collapsed": false,
    "ExecuteTime": {
     "end_time": "2023-05-24T08:44:32.015912Z",
     "start_time": "2023-05-24T08:44:31.470363Z"
    }
   }
  },
  {
   "cell_type": "markdown",
   "source": [
    "Далее эту модель загрузим в приложение Streamlit. Его код в файле main.py"
   ],
   "metadata": {
    "collapsed": false
   }
  }
 ],
 "metadata": {
  "kernelspec": {
   "display_name": "Python 3",
   "language": "python",
   "name": "python3"
  },
  "language_info": {
   "codemirror_mode": {
    "name": "ipython",
    "version": 2
   },
   "file_extension": ".py",
   "mimetype": "text/x-python",
   "name": "python",
   "nbconvert_exporter": "python",
   "pygments_lexer": "ipython2",
   "version": "2.7.6"
  }
 },
 "nbformat": 4,
 "nbformat_minor": 0
}
